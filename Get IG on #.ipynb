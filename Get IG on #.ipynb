{
 "cells": [
  {
   "cell_type": "code",
   "execution_count": 36,
   "metadata": {},
   "outputs": [
    {
     "name": "stdout",
     "output_type": "stream",
     "text": [
      "QVFBTHpJeUd6eVdyYWFHWmtwWFd2MENLOURyQlVlalRGeWtWcEFOV2F4ZUVUbDV5b3pTYk5xelJiaGxVN2NBcU0tbjZoTHVaYkhpREM2RFpxWHdGVzdIMQ==\n"
     ]
    }
   ],
   "source": [
    "import requests\n",
    "import time\n",
    "import json\n",
    "arr = []\n",
    "end_cursor = '' # empty for the 1st page\n",
    "tag = 'playfest2019' # your tag\n",
    "page_count = 20 # desired number of pages\n",
    "for i in range(0, page_count):\n",
    "    url = \"https://www.instagram.com/explore/tags/{0}/?__a=1&max_id={1}\".format(tag, end_cursor)\n",
    "    r = requests.get(url)\n",
    "    data = json.loads(r.text)\n",
    "    \n",
    "    end_cursor = data['graphql']['hashtag']['edge_hashtag_to_media']['page_info']['end_cursor'] # value for the next page\n",
    "    edges = data['graphql']['hashtag']['edge_hashtag_to_media']['edges'] # list with posts\n",
    "    \n",
    "    for item in edges:\n",
    "        arr.append(item['node'])\n",
    "    time.sleep(2) # insurence to not reach a time limit\n",
    "    \n",
    "print(end_cursor) # save this to restart parsing with the next page\n",
    "with open('posts.json', 'w') as outfile:\n",
    "    json.dump(arr, outfile) # save to json"
   ]
  },
  {
   "cell_type": "code",
   "execution_count": 2,
   "metadata": {},
   "outputs": [],
   "source": [
    "from pprint import pprint\n",
    "\n",
    "with open('posts.json') as f:\n",
    "    data = json.load(f)"
   ]
  },
  {
   "cell_type": "code",
   "execution_count": 3,
   "metadata": {},
   "outputs": [
    {
     "data": {
      "text/plain": [
       "8"
      ]
     },
     "execution_count": 3,
     "metadata": {},
     "output_type": "execute_result"
    }
   ],
   "source": [
    "data[0]['edge_liked_by']['count']"
   ]
  },
  {
   "cell_type": "code",
   "execution_count": 4,
   "metadata": {},
   "outputs": [
    {
     "data": {
      "text/plain": [
       "1566896956"
      ]
     },
     "execution_count": 4,
     "metadata": {},
     "output_type": "execute_result"
    }
   ],
   "source": [
    "data[0]['taken_at_timestamp']"
   ]
  },
  {
   "cell_type": "code",
   "execution_count": 5,
   "metadata": {},
   "outputs": [
    {
     "data": {
      "text/plain": [
       "{u'count': 0}"
      ]
     },
     "execution_count": 5,
     "metadata": {},
     "output_type": "execute_result"
    }
   ],
   "source": [
    "data[0]['edge_media_to_comment']"
   ]
  },
  {
   "cell_type": "code",
   "execution_count": 6,
   "metadata": {},
   "outputs": [
    {
     "data": {
      "text/plain": [
       "u'2119606525249215112'"
      ]
     },
     "execution_count": 6,
     "metadata": {},
     "output_type": "execute_result"
    }
   ],
   "source": [
    "data[0]['id']"
   ]
  },
  {
   "cell_type": "code",
   "execution_count": 24,
   "metadata": {},
   "outputs": [
    {
     "name": "stdout",
     "output_type": "stream",
     "text": [
      "iwall507\n"
     ]
    }
   ],
   "source": [
    "# import requests, re, json\n",
    "# from bs4 import BeautifulSoup\n",
    "# r = requests.get('https://www.instagram.com/p/B1qWueRFFqI/')\n",
    "# soup = BeautifulSoup(r.content, \"lxml\")\n",
    "# scripts = soup.find_all('script', type=\"text/javascript\", text=re.compile('window._sharedData'))\n",
    "# stringified_json = scripts[0].get_text().replace('window._sharedData = ', '')[:-1]\n",
    "# print json.loads(stringified_json)['entry_data']['PostPage'][0]['graphql']['shortcode_media']['owner']['username']"
   ]
  },
  {
   "cell_type": "code",
   "execution_count": 7,
   "metadata": {},
   "outputs": [],
   "source": [
    "timestamps = []\n",
    "owners = []\n",
    "likes = []\n",
    "comments = []\n",
    "shortcodes = []\n",
    "\n",
    "for i in range(len(data)):\n",
    "    timestamp = data[i]['taken_at_timestamp']\n",
    "    timestamps.append(timestamp)\n",
    "    \n",
    "    owner = data[i]['owner']['id']\n",
    "    owners.append(owner)\n",
    "    \n",
    "    like = data[i]['edge_liked_by']['count']\n",
    "    likes.append(like)\n",
    "    \n",
    "    comment = data[i]['edge_media_to_comment']['count']\n",
    "    comments.append(comment)\n",
    "    \n",
    "    shortcode = data[i]['shortcode']\n",
    "    shortcodes.append(shortcode)\n",
    "    \n",
    "    \n",
    "    \n",
    "    #uris.append(track_results['shows']['items'][i]['uri'])\n",
    "    #publishers.append(track_results['shows']['items'][i]['publisher'])\n",
    "    #descriptions.append(track_results['shows']['items'][i]['description'])\n",
    "    #names.append(track_results['shows']['items'][i]['name'])\n",
    "    #spotifys.append(track_results['shows']['items'][i]['external_urls']['spotify'])\n",
    "    \n",
    "\n",
    "    "
   ]
  },
  {
   "cell_type": "code",
   "execution_count": 8,
   "metadata": {},
   "outputs": [],
   "source": [
    "a = {\"timestamp\":timestamps, \"like\":likes, \n",
    "     \"comment\":comments, \"shortcode\":shortcodes, \"owner\":owners}"
   ]
  },
  {
   "cell_type": "code",
   "execution_count": 9,
   "metadata": {},
   "outputs": [],
   "source": [
    "import pandas as pd\n",
    "df = pd.DataFrame.from_dict(a)"
   ]
  },
  {
   "cell_type": "code",
   "execution_count": 10,
   "metadata": {},
   "outputs": [],
   "source": [
    "df['account'] = 'https://www.instagram.com/p/' + df['shortcode'].astype(str) + '/'"
   ]
  },
  {
   "cell_type": "code",
   "execution_count": 26,
   "metadata": {},
   "outputs": [],
   "source": [
    "df['info'] = 'https://i.instagram.com/api/v1/users/' + df['owner'].astype(str) + '/info/'"
   ]
  },
  {
   "cell_type": "code",
   "execution_count": 11,
   "metadata": {},
   "outputs": [],
   "source": [
    "from datetime import datetime"
   ]
  },
  {
   "cell_type": "code",
   "execution_count": 12,
   "metadata": {},
   "outputs": [],
   "source": [
    "df['timestamp'] = pd.to_datetime(df['timestamp'],unit='s')"
   ]
  },
  {
   "cell_type": "code",
   "execution_count": 13,
   "metadata": {},
   "outputs": [],
   "source": [
    "df['date'] = [d.date() for d in df['timestamp']]\n",
    "df['time'] = [d.time() for d in df['timestamp']]"
   ]
  },
  {
   "cell_type": "code",
   "execution_count": 27,
   "metadata": {},
   "outputs": [
    {
     "data": {
      "text/html": [
       "<div>\n",
       "<style scoped>\n",
       "    .dataframe tbody tr th:only-of-type {\n",
       "        vertical-align: middle;\n",
       "    }\n",
       "\n",
       "    .dataframe tbody tr th {\n",
       "        vertical-align: top;\n",
       "    }\n",
       "\n",
       "    .dataframe thead th {\n",
       "        text-align: right;\n",
       "    }\n",
       "</style>\n",
       "<table border=\"1\" class=\"dataframe\">\n",
       "  <thead>\n",
       "    <tr style=\"text-align: right;\">\n",
       "      <th></th>\n",
       "      <th>comment</th>\n",
       "      <th>like</th>\n",
       "      <th>owner</th>\n",
       "      <th>shortcode</th>\n",
       "      <th>timestamp</th>\n",
       "      <th>account</th>\n",
       "      <th>date</th>\n",
       "      <th>time</th>\n",
       "      <th>info</th>\n",
       "    </tr>\n",
       "  </thead>\n",
       "  <tbody>\n",
       "    <tr>\n",
       "      <th>0</th>\n",
       "      <td>0</td>\n",
       "      <td>8</td>\n",
       "      <td>6667199016</td>\n",
       "      <td>B1qWueRFFqI</td>\n",
       "      <td>2019-08-27 09:09:16</td>\n",
       "      <td>https://www.instagram.com/p/B1qWueRFFqI/</td>\n",
       "      <td>2019-08-27</td>\n",
       "      <td>09:09:16</td>\n",
       "      <td>https://i.instagram.com/api/v1/users/666719901...</td>\n",
       "    </tr>\n",
       "    <tr>\n",
       "      <th>1</th>\n",
       "      <td>1</td>\n",
       "      <td>52</td>\n",
       "      <td>1477875152</td>\n",
       "      <td>B1qV9UoH6eh</td>\n",
       "      <td>2019-08-27 09:00:07</td>\n",
       "      <td>https://www.instagram.com/p/B1qV9UoH6eh/</td>\n",
       "      <td>2019-08-27</td>\n",
       "      <td>09:00:07</td>\n",
       "      <td>https://i.instagram.com/api/v1/users/147787515...</td>\n",
       "    </tr>\n",
       "    <tr>\n",
       "      <th>2</th>\n",
       "      <td>0</td>\n",
       "      <td>47</td>\n",
       "      <td>1169181900</td>\n",
       "      <td>B1qU2Q4A_t5</td>\n",
       "      <td>2019-08-27 08:53:32</td>\n",
       "      <td>https://www.instagram.com/p/B1qU2Q4A_t5/</td>\n",
       "      <td>2019-08-27</td>\n",
       "      <td>08:53:32</td>\n",
       "      <td>https://i.instagram.com/api/v1/users/116918190...</td>\n",
       "    </tr>\n",
       "    <tr>\n",
       "      <th>3</th>\n",
       "      <td>0</td>\n",
       "      <td>6</td>\n",
       "      <td>1052861204</td>\n",
       "      <td>B1qS4pnh6ye</td>\n",
       "      <td>2019-08-27 08:33:15</td>\n",
       "      <td>https://www.instagram.com/p/B1qS4pnh6ye/</td>\n",
       "      <td>2019-08-27</td>\n",
       "      <td>08:33:15</td>\n",
       "      <td>https://i.instagram.com/api/v1/users/105286120...</td>\n",
       "    </tr>\n",
       "    <tr>\n",
       "      <th>4</th>\n",
       "      <td>0</td>\n",
       "      <td>209</td>\n",
       "      <td>8727010621</td>\n",
       "      <td>B1qSmBnAqMg</td>\n",
       "      <td>2019-08-27 08:30:43</td>\n",
       "      <td>https://www.instagram.com/p/B1qSmBnAqMg/</td>\n",
       "      <td>2019-08-27</td>\n",
       "      <td>08:30:43</td>\n",
       "      <td>https://i.instagram.com/api/v1/users/872701062...</td>\n",
       "    </tr>\n",
       "  </tbody>\n",
       "</table>\n",
       "</div>"
      ],
      "text/plain": [
       "   comment  like       owner    shortcode           timestamp  \\\n",
       "0        0     8  6667199016  B1qWueRFFqI 2019-08-27 09:09:16   \n",
       "1        1    52  1477875152  B1qV9UoH6eh 2019-08-27 09:00:07   \n",
       "2        0    47  1169181900  B1qU2Q4A_t5 2019-08-27 08:53:32   \n",
       "3        0     6  1052861204  B1qS4pnh6ye 2019-08-27 08:33:15   \n",
       "4        0   209  8727010621  B1qSmBnAqMg 2019-08-27 08:30:43   \n",
       "\n",
       "                                    account        date      time  \\\n",
       "0  https://www.instagram.com/p/B1qWueRFFqI/  2019-08-27  09:09:16   \n",
       "1  https://www.instagram.com/p/B1qV9UoH6eh/  2019-08-27  09:00:07   \n",
       "2  https://www.instagram.com/p/B1qU2Q4A_t5/  2019-08-27  08:53:32   \n",
       "3  https://www.instagram.com/p/B1qS4pnh6ye/  2019-08-27  08:33:15   \n",
       "4  https://www.instagram.com/p/B1qSmBnAqMg/  2019-08-27  08:30:43   \n",
       "\n",
       "                                                info  \n",
       "0  https://i.instagram.com/api/v1/users/666719901...  \n",
       "1  https://i.instagram.com/api/v1/users/147787515...  \n",
       "2  https://i.instagram.com/api/v1/users/116918190...  \n",
       "3  https://i.instagram.com/api/v1/users/105286120...  \n",
       "4  https://i.instagram.com/api/v1/users/872701062...  "
      ]
     },
     "execution_count": 27,
     "metadata": {},
     "output_type": "execute_result"
    }
   ],
   "source": [
    "df.head()"
   ]
  },
  {
   "cell_type": "code",
   "execution_count": 28,
   "metadata": {},
   "outputs": [],
   "source": [
    "df.to_csv('Playfest2019_IG_after.csv')"
   ]
  },
  {
   "cell_type": "code",
   "execution_count": 29,
   "metadata": {},
   "outputs": [
    {
     "data": {
      "text/plain": [
       "u'/Users/anggapradiktas/Documents/JupyterNotebook/analysis'"
      ]
     },
     "execution_count": 29,
     "metadata": {},
     "output_type": "execute_result"
    }
   ],
   "source": [
    "pwd"
   ]
  },
  {
   "cell_type": "code",
   "execution_count": 30,
   "metadata": {},
   "outputs": [
    {
     "data": {
      "text/plain": [
       "472444"
      ]
     },
     "execution_count": 30,
     "metadata": {},
     "output_type": "execute_result"
    }
   ],
   "source": [
    "df['like'].sum()"
   ]
  },
  {
   "cell_type": "code",
   "execution_count": 31,
   "metadata": {},
   "outputs": [
    {
     "data": {
      "text/plain": [
       "3563"
      ]
     },
     "execution_count": 31,
     "metadata": {},
     "output_type": "execute_result"
    }
   ],
   "source": [
    "df['comment'].sum()"
   ]
  },
  {
   "cell_type": "code",
   "execution_count": 33,
   "metadata": {},
   "outputs": [
    {
     "data": {
      "text/plain": [
       "comment      682\n",
       "like         682\n",
       "owner        682\n",
       "shortcode    682\n",
       "timestamp    682\n",
       "account      682\n",
       "date         682\n",
       "time         682\n",
       "info         682\n",
       "dtype: int64"
      ]
     },
     "execution_count": 33,
     "metadata": {},
     "output_type": "execute_result"
    }
   ],
   "source": [
    "df.count()"
   ]
  },
  {
   "cell_type": "code",
   "execution_count": 35,
   "metadata": {},
   "outputs": [
    {
     "data": {
      "text/html": [
       "<div>\n",
       "<style scoped>\n",
       "    .dataframe tbody tr th:only-of-type {\n",
       "        vertical-align: middle;\n",
       "    }\n",
       "\n",
       "    .dataframe tbody tr th {\n",
       "        vertical-align: top;\n",
       "    }\n",
       "\n",
       "    .dataframe thead th {\n",
       "        text-align: right;\n",
       "    }\n",
       "</style>\n",
       "<table border=\"1\" class=\"dataframe\">\n",
       "  <thead>\n",
       "    <tr style=\"text-align: right;\">\n",
       "      <th></th>\n",
       "      <th>comment</th>\n",
       "      <th>like</th>\n",
       "      <th>owner</th>\n",
       "      <th>shortcode</th>\n",
       "      <th>timestamp</th>\n",
       "      <th>account</th>\n",
       "      <th>date</th>\n",
       "      <th>time</th>\n",
       "      <th>info</th>\n",
       "    </tr>\n",
       "  </thead>\n",
       "  <tbody>\n",
       "    <tr>\n",
       "      <th>677</th>\n",
       "      <td>0</td>\n",
       "      <td>18</td>\n",
       "      <td>8778416883</td>\n",
       "      <td>B1h-TlBFC1P</td>\n",
       "      <td>2019-08-24 02:59:31</td>\n",
       "      <td>https://www.instagram.com/p/B1h-TlBFC1P/</td>\n",
       "      <td>2019-08-24</td>\n",
       "      <td>02:59:31</td>\n",
       "      <td>https://i.instagram.com/api/v1/users/877841688...</td>\n",
       "    </tr>\n",
       "    <tr>\n",
       "      <th>678</th>\n",
       "      <td>22</td>\n",
       "      <td>186</td>\n",
       "      <td>205370486</td>\n",
       "      <td>B1h9Sh6HXVt</td>\n",
       "      <td>2019-08-24 02:50:38</td>\n",
       "      <td>https://www.instagram.com/p/B1h9Sh6HXVt/</td>\n",
       "      <td>2019-08-24</td>\n",
       "      <td>02:50:38</td>\n",
       "      <td>https://i.instagram.com/api/v1/users/205370486...</td>\n",
       "    </tr>\n",
       "    <tr>\n",
       "      <th>679</th>\n",
       "      <td>0</td>\n",
       "      <td>35</td>\n",
       "      <td>7415489150</td>\n",
       "      <td>B1h86UzAj4L</td>\n",
       "      <td>2019-08-24 02:47:19</td>\n",
       "      <td>https://www.instagram.com/p/B1h86UzAj4L/</td>\n",
       "      <td>2019-08-24</td>\n",
       "      <td>02:47:19</td>\n",
       "      <td>https://i.instagram.com/api/v1/users/741548915...</td>\n",
       "    </tr>\n",
       "    <tr>\n",
       "      <th>680</th>\n",
       "      <td>41</td>\n",
       "      <td>484</td>\n",
       "      <td>8727010621</td>\n",
       "      <td>B1h71HHAWYV</td>\n",
       "      <td>2019-08-24 02:37:52</td>\n",
       "      <td>https://www.instagram.com/p/B1h71HHAWYV/</td>\n",
       "      <td>2019-08-24</td>\n",
       "      <td>02:37:52</td>\n",
       "      <td>https://i.instagram.com/api/v1/users/872701062...</td>\n",
       "    </tr>\n",
       "    <tr>\n",
       "      <th>681</th>\n",
       "      <td>14</td>\n",
       "      <td>1029</td>\n",
       "      <td>523779884</td>\n",
       "      <td>B1gC5CPFNpp</td>\n",
       "      <td>2019-08-23 09:01:06</td>\n",
       "      <td>https://www.instagram.com/p/B1gC5CPFNpp/</td>\n",
       "      <td>2019-08-23</td>\n",
       "      <td>09:01:06</td>\n",
       "      <td>https://i.instagram.com/api/v1/users/523779884...</td>\n",
       "    </tr>\n",
       "  </tbody>\n",
       "</table>\n",
       "</div>"
      ],
      "text/plain": [
       "     comment  like       owner    shortcode           timestamp  \\\n",
       "677        0    18  8778416883  B1h-TlBFC1P 2019-08-24 02:59:31   \n",
       "678       22   186   205370486  B1h9Sh6HXVt 2019-08-24 02:50:38   \n",
       "679        0    35  7415489150  B1h86UzAj4L 2019-08-24 02:47:19   \n",
       "680       41   484  8727010621  B1h71HHAWYV 2019-08-24 02:37:52   \n",
       "681       14  1029   523779884  B1gC5CPFNpp 2019-08-23 09:01:06   \n",
       "\n",
       "                                      account        date      time  \\\n",
       "677  https://www.instagram.com/p/B1h-TlBFC1P/  2019-08-24  02:59:31   \n",
       "678  https://www.instagram.com/p/B1h9Sh6HXVt/  2019-08-24  02:50:38   \n",
       "679  https://www.instagram.com/p/B1h86UzAj4L/  2019-08-24  02:47:19   \n",
       "680  https://www.instagram.com/p/B1h71HHAWYV/  2019-08-24  02:37:52   \n",
       "681  https://www.instagram.com/p/B1gC5CPFNpp/  2019-08-23  09:01:06   \n",
       "\n",
       "                                                  info  \n",
       "677  https://i.instagram.com/api/v1/users/877841688...  \n",
       "678  https://i.instagram.com/api/v1/users/205370486...  \n",
       "679  https://i.instagram.com/api/v1/users/741548915...  \n",
       "680  https://i.instagram.com/api/v1/users/872701062...  \n",
       "681  https://i.instagram.com/api/v1/users/523779884...  "
      ]
     },
     "execution_count": 35,
     "metadata": {},
     "output_type": "execute_result"
    }
   ],
   "source": [
    "df.tail()"
   ]
  },
  {
   "cell_type": "code",
   "execution_count": null,
   "metadata": {},
   "outputs": [],
   "source": []
  }
 ],
 "metadata": {
  "kernelspec": {
   "display_name": "Python 3",
   "language": "python",
   "name": "python3"
  },
  "language_info": {
   "codemirror_mode": {
    "name": "ipython",
    "version": 2
   },
   "file_extension": ".py",
   "mimetype": "text/x-python",
   "name": "python",
   "nbconvert_exporter": "python",
   "pygments_lexer": "ipython2",
   "version": "2.7.16"
  }
 },
 "nbformat": 4,
 "nbformat_minor": 2
}
