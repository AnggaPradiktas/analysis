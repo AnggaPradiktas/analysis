{
 "cells": [
  {
   "cell_type": "code",
   "execution_count": 1,
   "metadata": {},
   "outputs": [],
   "source": [
    "import csv\n",
    "import pandas as pd\n",
    "import numpy as np\n"
   ]
  },
  {
   "cell_type": "code",
   "execution_count": 2,
   "metadata": {},
   "outputs": [],
   "source": [
    "okezone = pd.read_csv('okezone.csv', encoding= 'utf8', sep=';')"
   ]
  },
  {
   "cell_type": "code",
   "execution_count": 5,
   "metadata": {},
   "outputs": [
    {
     "data": {
      "text/html": [
       "<div>\n",
       "<style scoped>\n",
       "    .dataframe tbody tr th:only-of-type {\n",
       "        vertical-align: middle;\n",
       "    }\n",
       "\n",
       "    .dataframe tbody tr th {\n",
       "        vertical-align: top;\n",
       "    }\n",
       "\n",
       "    .dataframe thead th {\n",
       "        text-align: right;\n",
       "    }\n",
       "</style>\n",
       "<table border=\"1\" class=\"dataframe\">\n",
       "  <thead>\n",
       "    <tr style=\"text-align: right;\">\n",
       "      <th></th>\n",
       "      <th>Title</th>\n",
       "      <th>Description</th>\n",
       "      <th>Sentiment</th>\n",
       "    </tr>\n",
       "  </thead>\n",
       "  <tbody>\n",
       "    <tr>\n",
       "      <th>0</th>\n",
       "      <td>PUPR Targetkan 699 Huntara di Sulteng Rampung ...</td>\n",
       "      <td>Kementerian Pekerjaan Umum dan Perumahan Rakya...</td>\n",
       "      <td>1</td>\n",
       "    </tr>\n",
       "    <tr>\n",
       "      <th>1</th>\n",
       "      <td>Pentingnya IPAL, Menteri Basuki Akui Masih Ter...</td>\n",
       "      <td>Kementerian PUPR membangun dua Instalasi Pengo...</td>\n",
       "      <td>1</td>\n",
       "    </tr>\n",
       "    <tr>\n",
       "      <th>2</th>\n",
       "      <td>PUPR Kebagian Duit Sukuk Negara Rp12,7 Triliun...</td>\n",
       "      <td>NaN</td>\n",
       "      <td>-1</td>\n",
       "    </tr>\n",
       "    <tr>\n",
       "      <th>3</th>\n",
       "      <td>Pasca-Ambruk, Pembangunan Jembatan Batang Kalu...</td>\n",
       "      <td>Pemulihan ruas Jalan Padang-Bukit Tinggi yang ...</td>\n",
       "      <td>1</td>\n",
       "    </tr>\n",
       "    <tr>\n",
       "      <th>4</th>\n",
       "      <td>8 Bendungan Ini Ditargetkan Selesai Akhir 2018</td>\n",
       "      <td>Basuki Hadimuljono memastikan bahwa ada delapa...</td>\n",
       "      <td>1</td>\n",
       "    </tr>\n",
       "    <tr>\n",
       "      <th>5</th>\n",
       "      <td>PUPR Dorong Kontraktor Indonesia Ekspor Jasa K...</td>\n",
       "      <td>Kementerian PUPR terus mendorong kontraktor da...</td>\n",
       "      <td>1</td>\n",
       "    </tr>\n",
       "    <tr>\n",
       "      <th>6</th>\n",
       "      <td>Penerimaan CPNS 2018, Kementerian PUPR 'Panggi...</td>\n",
       "      <td>Kementerian Pekerjaan Umum dan Perumahan Rakya...</td>\n",
       "      <td>1</td>\n",
       "    </tr>\n",
       "    <tr>\n",
       "      <th>7</th>\n",
       "      <td>CPNS 2018, Kementerian PUPR Siapkan Formasi Kh...</td>\n",
       "      <td>Kementerian PUPR akan membuka sekitar 1.000 fo...</td>\n",
       "      <td>1</td>\n",
       "    </tr>\n",
       "    <tr>\n",
       "      <th>8</th>\n",
       "      <td>Buka 1.000 Formasi CPNS 2018, Kementerian PUPR...</td>\n",
       "      <td>Kementerian Pekerjaan Umum dan Perumahan Rakya...</td>\n",
       "      <td>1</td>\n",
       "    </tr>\n",
       "    <tr>\n",
       "      <th>9</th>\n",
       "      <td>134 Jembatan Gantung Bakal Berdiri Kokoh Tahun...</td>\n",
       "      <td>Kementerian Pekerjaan Umum dan Perumahan Rakya...</td>\n",
       "      <td>1</td>\n",
       "    </tr>\n",
       "    <tr>\n",
       "      <th>10</th>\n",
       "      <td>26 Proyek Strategis Nasional Ditargetkan Rampu...</td>\n",
       "      <td>Kementerian Pekerjaan Umum dan Perumahan Rakya...</td>\n",
       "      <td>1</td>\n",
       "    </tr>\n",
       "    <tr>\n",
       "      <th>11</th>\n",
       "      <td>Bangun Rumah Tahan Gempa, Menteri PUPR Lepas 4...</td>\n",
       "      <td>Menteri PUPR Basuki Hadimuljono melepas insiny...</td>\n",
       "      <td>1</td>\n",
       "    </tr>\n",
       "    <tr>\n",
       "      <th>12</th>\n",
       "      <td>Kolam Retensi Dibangun di Palembang, Apa Itu?</td>\n",
       "      <td>Kementerian Pekerjaan Umum dan Perumahan Rakya...</td>\n",
       "      <td>0</td>\n",
       "    </tr>\n",
       "    <tr>\n",
       "      <th>13</th>\n",
       "      <td>CPNS 2017 Dikirim ke Lombok untuk Bangun Rumah</td>\n",
       "      <td>Kementerian PUPR mengirimkan 400 insinyur muda...</td>\n",
       "      <td>1</td>\n",
       "    </tr>\n",
       "    <tr>\n",
       "      <th>14</th>\n",
       "      <td>Pelatih Basket Korsel Kritik Wisma Atlet Kemay...</td>\n",
       "      <td>Wisma Atlet Kemayoran beberapa waktu mendapatk...</td>\n",
       "      <td>-1</td>\n",
       "    </tr>\n",
       "    <tr>\n",
       "      <th>15</th>\n",
       "      <td>Serapan Anggaran Kementerian PUPR Baru 38,1% h...</td>\n",
       "      <td>Berdasarkan data yang dimiliki oleh Kementeria...</td>\n",
       "      <td>0</td>\n",
       "    </tr>\n",
       "    <tr>\n",
       "      <th>16</th>\n",
       "      <td>Kumpulkan Seluruh Pegawai PUPR, Menteri Basuki...</td>\n",
       "      <td>Kementerian Pekerjaan Umum dan Perumahan Rakya...</td>\n",
       "      <td>0</td>\n",
       "    </tr>\n",
       "    <tr>\n",
       "      <th>17</th>\n",
       "      <td>Rapat 7 Jam di DPR, Menteri Basuki Diminta Tam...</td>\n",
       "      <td>Komisi V Dewan Perwakilan Rakyat Republik Indo...</td>\n",
       "      <td>0</td>\n",
       "    </tr>\n",
       "    <tr>\n",
       "      <th>18</th>\n",
       "      <td>Runtuh, Proyek Jembatan Kali Kuto Dievaluasi</td>\n",
       "      <td>Kementerian Pekerjaan Umum dan Perumahan Rakya...</td>\n",
       "      <td>-1</td>\n",
       "    </tr>\n",
       "    <tr>\n",
       "      <th>19</th>\n",
       "      <td>PUPR Andalkan Kampus Jelaskan Pentingnya Infra...</td>\n",
       "      <td>PUPR menggandeng 22 universitas dari seluruh I...</td>\n",
       "      <td>0</td>\n",
       "    </tr>\n",
       "    <tr>\n",
       "      <th>20</th>\n",
       "      <td>Kementerian PUPR Kumpulkan 22 Petinggi Kampus,...</td>\n",
       "      <td>Kementerian Pekerjaan Umum dan Perumahan Rakya...</td>\n",
       "      <td>0</td>\n",
       "    </tr>\n",
       "    <tr>\n",
       "      <th>21</th>\n",
       "      <td>Kementerian PUPR: 174 Jembatan dan 18 Flyover ...</td>\n",
       "      <td>Kementerian PUPR menargetkan bisa membangun 17...</td>\n",
       "      <td>1</td>\n",
       "    </tr>\n",
       "    <tr>\n",
       "      <th>22</th>\n",
       "      <td>Wakil Wali Kota Mojokerto Diperiksa KPK Terkai...</td>\n",
       "      <td>Juru Bicara KPK, Febri Diansyah mengatakan, Wa...</td>\n",
       "      <td>-1</td>\n",
       "    </tr>\n",
       "    <tr>\n",
       "      <th>23</th>\n",
       "      <td>Wih! Pejabat Kemenkeu, PUPR hingga Puluhan Bup...</td>\n",
       "      <td>Kementerian Pekerjaan Umum dan Perumahaan Raky...</td>\n",
       "      <td>0</td>\n",
       "    </tr>\n",
       "    <tr>\n",
       "      <th>24</th>\n",
       "      <td>3.255 Tukang Bangunan hingga Mandor Dapat Sert...</td>\n",
       "      <td>Kementerian Pekerjaan Umum dan Perumahan Rakya...</td>\n",
       "      <td>1</td>\n",
       "    </tr>\n",
       "    <tr>\n",
       "      <th>25</th>\n",
       "      <td>Alhamdulillah.. 3.255 Tenaga Kerja Tukang Bang...</td>\n",
       "      <td>Kementerian PUPR menggandeng stakeholder konst...</td>\n",
       "      <td>1</td>\n",
       "    </tr>\n",
       "    <tr>\n",
       "      <th>26</th>\n",
       "      <td>Genjot Pengembangan Suramadu, Potensi Investas...</td>\n",
       "      <td>PUPR tengah menerapkan pola pengembangan berba...</td>\n",
       "      <td>1</td>\n",
       "    </tr>\n",
       "    <tr>\n",
       "      <th>27</th>\n",
       "      <td>Cerita Alih Anggaran PENS dan \"Tradisi\" Suap B...</td>\n",
       "      <td>Tiga pimpinan DPRD dan Kadis PU Mojokerto dita...</td>\n",
       "      <td>-1</td>\n",
       "    </tr>\n",
       "    <tr>\n",
       "      <th>28</th>\n",
       "      <td>Siapa Sosok Berinisial H dan T yang Ditangkap ...</td>\n",
       "      <td>H dan T ikut terjaring OTT KPK di Mojokerto. K...</td>\n",
       "      <td>-1</td>\n",
       "    </tr>\n",
       "  </tbody>\n",
       "</table>\n",
       "</div>"
      ],
      "text/plain": [
       "                                                Title  \\\n",
       "0   PUPR Targetkan 699 Huntara di Sulteng Rampung ...   \n",
       "1   Pentingnya IPAL, Menteri Basuki Akui Masih Ter...   \n",
       "2   PUPR Kebagian Duit Sukuk Negara Rp12,7 Triliun...   \n",
       "3   Pasca-Ambruk, Pembangunan Jembatan Batang Kalu...   \n",
       "4      8 Bendungan Ini Ditargetkan Selesai Akhir 2018   \n",
       "5   PUPR Dorong Kontraktor Indonesia Ekspor Jasa K...   \n",
       "6   Penerimaan CPNS 2018, Kementerian PUPR 'Panggi...   \n",
       "7   CPNS 2018, Kementerian PUPR Siapkan Formasi Kh...   \n",
       "8   Buka 1.000 Formasi CPNS 2018, Kementerian PUPR...   \n",
       "9   134 Jembatan Gantung Bakal Berdiri Kokoh Tahun...   \n",
       "10  26 Proyek Strategis Nasional Ditargetkan Rampu...   \n",
       "11  Bangun Rumah Tahan Gempa, Menteri PUPR Lepas 4...   \n",
       "12      Kolam Retensi Dibangun di Palembang, Apa Itu?   \n",
       "13     CPNS 2017 Dikirim ke Lombok untuk Bangun Rumah   \n",
       "14  Pelatih Basket Korsel Kritik Wisma Atlet Kemay...   \n",
       "15  Serapan Anggaran Kementerian PUPR Baru 38,1% h...   \n",
       "16  Kumpulkan Seluruh Pegawai PUPR, Menteri Basuki...   \n",
       "17  Rapat 7 Jam di DPR, Menteri Basuki Diminta Tam...   \n",
       "18       Runtuh, Proyek Jembatan Kali Kuto Dievaluasi   \n",
       "19  PUPR Andalkan Kampus Jelaskan Pentingnya Infra...   \n",
       "20  Kementerian PUPR Kumpulkan 22 Petinggi Kampus,...   \n",
       "21  Kementerian PUPR: 174 Jembatan dan 18 Flyover ...   \n",
       "22  Wakil Wali Kota Mojokerto Diperiksa KPK Terkai...   \n",
       "23  Wih! Pejabat Kemenkeu, PUPR hingga Puluhan Bup...   \n",
       "24  3.255 Tukang Bangunan hingga Mandor Dapat Sert...   \n",
       "25  Alhamdulillah.. 3.255 Tenaga Kerja Tukang Bang...   \n",
       "26  Genjot Pengembangan Suramadu, Potensi Investas...   \n",
       "27  Cerita Alih Anggaran PENS dan \"Tradisi\" Suap B...   \n",
       "28  Siapa Sosok Berinisial H dan T yang Ditangkap ...   \n",
       "\n",
       "                                          Description  Sentiment  \n",
       "0   Kementerian Pekerjaan Umum dan Perumahan Rakya...          1  \n",
       "1   Kementerian PUPR membangun dua Instalasi Pengo...          1  \n",
       "2                                                 NaN         -1  \n",
       "3   Pemulihan ruas Jalan Padang-Bukit Tinggi yang ...          1  \n",
       "4   Basuki Hadimuljono memastikan bahwa ada delapa...          1  \n",
       "5   Kementerian PUPR terus mendorong kontraktor da...          1  \n",
       "6   Kementerian Pekerjaan Umum dan Perumahan Rakya...          1  \n",
       "7   Kementerian PUPR akan membuka sekitar 1.000 fo...          1  \n",
       "8   Kementerian Pekerjaan Umum dan Perumahan Rakya...          1  \n",
       "9   Kementerian Pekerjaan Umum dan Perumahan Rakya...          1  \n",
       "10  Kementerian Pekerjaan Umum dan Perumahan Rakya...          1  \n",
       "11  Menteri PUPR Basuki Hadimuljono melepas insiny...          1  \n",
       "12  Kementerian Pekerjaan Umum dan Perumahan Rakya...          0  \n",
       "13  Kementerian PUPR mengirimkan 400 insinyur muda...          1  \n",
       "14  Wisma Atlet Kemayoran beberapa waktu mendapatk...         -1  \n",
       "15  Berdasarkan data yang dimiliki oleh Kementeria...          0  \n",
       "16  Kementerian Pekerjaan Umum dan Perumahan Rakya...          0  \n",
       "17  Komisi V Dewan Perwakilan Rakyat Republik Indo...          0  \n",
       "18  Kementerian Pekerjaan Umum dan Perumahan Rakya...         -1  \n",
       "19  PUPR menggandeng 22 universitas dari seluruh I...          0  \n",
       "20  Kementerian Pekerjaan Umum dan Perumahan Rakya...          0  \n",
       "21  Kementerian PUPR menargetkan bisa membangun 17...          1  \n",
       "22  Juru Bicara KPK, Febri Diansyah mengatakan, Wa...         -1  \n",
       "23  Kementerian Pekerjaan Umum dan Perumahaan Raky...          0  \n",
       "24  Kementerian Pekerjaan Umum dan Perumahan Rakya...          1  \n",
       "25  Kementerian PUPR menggandeng stakeholder konst...          1  \n",
       "26  PUPR tengah menerapkan pola pengembangan berba...          1  \n",
       "27  Tiga pimpinan DPRD dan Kadis PU Mojokerto dita...         -1  \n",
       "28  H dan T ikut terjaring OTT KPK di Mojokerto. K...         -1  "
      ]
     },
     "execution_count": 5,
     "metadata": {},
     "output_type": "execute_result"
    }
   ],
   "source": [
    "okezone"
   ]
  },
  {
   "cell_type": "code",
   "execution_count": 6,
   "metadata": {},
   "outputs": [],
   "source": [
    "okezone = okezone.replace(np.nan, '', regex=True)"
   ]
  },
  {
   "cell_type": "code",
   "execution_count": 8,
   "metadata": {},
   "outputs": [],
   "source": [
    "okezone['titledesc'] = okezone[['Title', 'Description']].apply(lambda x: ' '.join(x), axis=1)\n"
   ]
  },
  {
   "cell_type": "code",
   "execution_count": 10,
   "metadata": {},
   "outputs": [],
   "source": [
    "okezone1 = okezone[['Title', 'titledesc']]"
   ]
  },
  {
   "cell_type": "code",
   "execution_count": 25,
   "metadata": {},
   "outputs": [],
   "source": [
    "import seaborn as sns\n",
    "import matplotlib.pyplot as plt\n",
    "import base64\n",
    "import string\n",
    "from collections import Counter\n",
    "from nltk.tokenize import word_tokenize\n",
    "from textblob import TextBlob\n",
    "import re\n",
    "import nltk"
   ]
  },
  {
   "cell_type": "code",
   "execution_count": 17,
   "metadata": {},
   "outputs": [],
   "source": [
    "from wordcloud import WordCloud\n",
    "from nltk.corpus import stopwords\n",
    "from nltk import sent_tokenize, word_tokenize\n",
    "from wordcloud import WordCloud, STOPWORDS\n",
    "from nltk.tokenize import RegexpTokenizer\n",
    "from stop_words import get_stop_words"
   ]
  },
  {
   "cell_type": "code",
   "execution_count": 18,
   "metadata": {},
   "outputs": [],
   "source": [
    "tags_lower = okezone1['titledesc'].str.lower().str.cat(sep=' ')\n",
    "\n",
    "# removes punctuation,numbers and returns list of words\n",
    "tags_remove_pun = re.sub('[^A-Za-z]+', ' ', tags_lower)"
   ]
  },
  {
   "cell_type": "code",
   "execution_count": 19,
   "metadata": {},
   "outputs": [],
   "source": [
    "stop_words = list(get_stop_words('id'))         \n",
    "nltk_words = list(stopwords.words('indonesian'))   \n",
    "stop_words.extend(nltk_words)\n"
   ]
  },
  {
   "cell_type": "code",
   "execution_count": 20,
   "metadata": {},
   "outputs": [],
   "source": [
    "word_tokens_tags = word_tokenize(tags_remove_pun)\n",
    "filtered_sentence_tags = [w_tags for w_tags in word_tokens_tags if not w_tags in stop_words]\n",
    "filtered_sentence_tags = []\n",
    "for w_tags in word_tokens_tags:\n",
    "    if w_tags not in stop_words:\n",
    "        filtered_sentence_tags.append(w_tags)"
   ]
  },
  {
   "cell_type": "code",
   "execution_count": 21,
   "metadata": {},
   "outputs": [],
   "source": [
    "without_single_chr_tags = [word_tags for word_tags in filtered_sentence_tags if len(word_tags) > 2]"
   ]
  },
  {
   "cell_type": "code",
   "execution_count": 22,
   "metadata": {},
   "outputs": [],
   "source": [
    "cleaned_data_tags = [word_tags for word_tags in without_single_chr_tags if not word_tags.isnumeric()]    "
   ]
  },
  {
   "cell_type": "code",
   "execution_count": 23,
   "metadata": {},
   "outputs": [],
   "source": [
    "top_N = 10000"
   ]
  },
  {
   "cell_type": "code",
   "execution_count": 26,
   "metadata": {},
   "outputs": [],
   "source": [
    "word_dist_tags = nltk.FreqDist(cleaned_data_tags)\n",
    "rslt_tags = pd.DataFrame(word_dist_tags.most_common(top_N),\n",
    "                    columns=['Word', 'Frequency'])"
   ]
  },
  {
   "cell_type": "code",
   "execution_count": 27,
   "metadata": {},
   "outputs": [
    {
     "data": {
      "image/png": "[encoded data removed]",
      "text/plain": [
       "<Figure size 1296x720 with 1 Axes>"
      ]
     },
     "metadata": {
      "needs_background": "light"
     },
     "output_type": "display_data"
    }
   ],
   "source": [
    "plt.figure(figsize=(18,10))\n",
    "sns.set_style(\"whitegrid\")\n",
    "plt.title('Okezone Topics')\n",
    "ax = sns.barplot(x=\"Word\",y=\"Frequency\", data=rslt_tags.head(10))"
   ]
  }
 ],
 "metadata": {
  "kernelspec": {
   "display_name": "Python 2",
   "language": "python",
   "name": "python2"
  },
  "language_info": {
   "codemirror_mode": {
    "name": "ipython",
    "version": 2
   },
   "file_extension": ".py",
   "mimetype": "text/x-python",
   "name": "python",
   "nbconvert_exporter": "python",
   "pygments_lexer": "ipython2",
   "version": "2.7.15"
  }
 },
 "nbformat": 4,
 "nbformat_minor": 2
}
