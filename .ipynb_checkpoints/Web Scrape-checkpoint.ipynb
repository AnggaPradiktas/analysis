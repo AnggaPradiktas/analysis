{
 "cells": [
  {
   "cell_type": "code",
   "execution_count": 2,
   "metadata": {},
   "outputs": [],
   "source": [
    "import pandas as pd\n",
    "import numpy as np\n",
    "from urllib2 import urlopen\n",
    "from bs4 import BeautifulSoup\n",
    "from requests import get"
   ]
  },
  {
   "cell_type": "code",
   "execution_count": 3,
   "metadata": {},
   "outputs": [],
   "source": [
    "url = \"https://www.detik.com/search/searchall?query=kementerian+pupr\"\n",
    "html = urlopen(url)"
   ]
  },
  {
   "cell_type": "code",
   "execution_count": 4,
   "metadata": {},
   "outputs": [],
   "source": [
    "soup = BeautifulSoup(html, 'lxml')"
   ]
  },
  {
   "cell_type": "code",
   "execution_count": 5,
   "metadata": {},
   "outputs": [
    {
     "data": {
      "text/plain": [
       "bs4.BeautifulSoup"
      ]
     },
     "execution_count": 5,
     "metadata": {},
     "output_type": "execute_result"
    }
   ],
   "source": [
    "type(soup)"
   ]
  },
  {
   "cell_type": "code",
   "execution_count": 6,
   "metadata": {},
   "outputs": [
    {
     "name": "stdout",
     "output_type": "stream",
     "text": [
      "<title>detiksearch</title>\n"
     ]
    }
   ],
   "source": [
    "title = soup.title\n",
    "print(title)"
   ]
  },
  {
   "cell_type": "code",
   "execution_count": 7,
   "metadata": {},
   "outputs": [
    {
     "data": {
      "text/plain": [
       "[<h2 class=\"title\">Bendungan Mila Siap Alirkan Air ke 1.689 Ha Lahan di Dompu</h2>,\n",
       " <h2 class=\"title\">Bertemu Jokowi, Ridwan Kamil Ingin Situ Bagendit Jadi Destinasi Dunia</h2>,\n",
       " <h2 class=\"title\">Jokowi Tinjau Bantuan Rusun di Ponpes Ustaz Adi Hidayat Belajar</h2>,\n",
       " <h2 class=\"title\">Pejabat Kementerian PUPR Kena OTT KPK</h2>,\n",
       " <h2 class=\"title\">5 Objek Wisata Populer Jawa Tengah yang Tak Kalah dengan Malaysia</h2>,\n",
       " <h2 class=\"title\">Patung Keris di Solo Dinilai Bisa Kaburkan Pemahaman Generasi Muda</h2>,\n",
       " <h2 class=\"title\">Kejar Sertifikat Kelaikan, Proyek Tol Wilangan-Kertosono Dikebut</h2>,\n",
       " <h2 class=\"title\">Warga Padang Nikmati Program Hibah Air</h2>,\n",
       " <h2 class=\"title\">Melihat Infrastruktur Jalan dan Jembatan di Pulau Terdepan RI</h2>,\n",
       " <h2 class=\"title\">Bendungan Rotiklot di Perbatasan RI-Timor Leste Rampung</h2>,\n",
       " <h2 class=\"title\">Wajah Rumah Khusus di Papua, untuk Pemuka Adat hingga Eks OPM</h2>,\n",
       " <h2 class=\"title\">Potret Pembangunan Indonesia dari Wilayah Perbatasan</h2>,\n",
       " <h2 class=\"title\">Kata Menhan soal Tingkat Kepatuhan LHKPN Kemhan Paling Rendah</h2>,\n",
       " <h2 class=\"title\">Jelang Operasi Penuh, Tol Sei Rampah-Tebing Tinggi Uji Kelaikan</h2>,\n",
       " <h2 class=\"title\">3 Tersangka Korupsi Irigasi Cihara Banten Ditahan</h2>]"
      ]
     },
     "execution_count": 7,
     "metadata": {},
     "output_type": "execute_result"
    }
   ],
   "source": [
    "soup.find_all('h2')"
   ]
  },
  {
   "cell_type": "code",
   "execution_count": 8,
   "metadata": {},
   "outputs": [],
   "source": [
    "news_container = soup.find_all('span', class_='box_text' )"
   ]
  },
  {
   "cell_type": "code",
   "execution_count": 9,
   "metadata": {},
   "outputs": [
    {
     "name": "stdout",
     "output_type": "stream",
     "text": [
      "<class 'bs4.element.ResultSet'>\n"
     ]
    }
   ],
   "source": [
    "print(type(news_container))"
   ]
  },
  {
   "cell_type": "code",
   "execution_count": 10,
   "metadata": {},
   "outputs": [
    {
     "name": "stdout",
     "output_type": "stream",
     "text": [
      "9\n"
     ]
    }
   ],
   "source": [
    "print(len(news_container))"
   ]
  },
  {
   "cell_type": "code",
   "execution_count": 11,
   "metadata": {},
   "outputs": [
    {
     "data": {
      "text/plain": [
       "[<span class=\"box_text\">\\n<span class=\"date\"><span class=\"category\">detikFinance</span>Sabtu, 19 Jan 2019 14:31 WIB</span>\\n<h2 class=\"title\">Bendungan Mila Siap Alirkan Air ke 1.689 Ha Lahan di Dompu</h2>\\n<p>Bendungan dengan tipe urugan zona inti tegak setinggi 36 meter memiliki kapasitas tampung sebesar 6,73 juta meter kubik dengan luas genangan 99 hektare.</p>\\n</span>,\n",
       " <span class=\"box_text\">\\n<span class=\"date\"><span class=\"category\">detikTravel</span>Sabtu, 19 Jan 2019 12:50 WIB</span>\\n<h2 class=\"title\">Bertemu Jokowi, Ridwan Kamil Ingin Situ Bagendit Jadi Destinasi Dunia</h2>\\n<p>Dalam kunjungan ke Garut, Presiden Jokowi bertemu dengan Gubernur Jawa Barat Ridwan Kamil. Kang Emil pun menunjukkan rencananya untuk merapikan Situ Bagendit.</p>\\n</span>,\n",
       " <span class=\"box_text\">\\n<span class=\"date\"><span class=\"category\">detikNews</span>Jumat, 18 Jan 2019 18:33 WIB</span>\\n<h2 class=\"title\">Jokowi Tinjau Bantuan Rusun di Ponpes Ustaz Adi Hidayat Belajar</h2>\\n<p>Presiden Jokowi meninjau progres pembangunan rumah susun di Ponpes Darul Arqam di Garut, Jabar. Pembangunan rusun sudah hampir selesai.</p>\\n</span>,\n",
       " <span class=\"box_text\">\\n<span class=\"date\"><span class=\"category\">detikTravel</span>Jumat, 18 Jan 2019 13:30 WIB</span>\\n<h2 class=\"title\">5 Objek Wisata Populer Jawa Tengah yang Tak Kalah dengan Malaysia</h2>\\n<p>Nama Jawa Tengah dan Malaysia tengah viral setelah debat pilpres kemarin. Bicara objek wisata, Jawa Tengah pastinya tak kalah dengan Malaysia.</p>\\n</span>,\n",
       " <span class=\"box_text\">\\n<span class=\"date\"><span class=\"category\">detikNews</span>Jumat, 18 Jan 2019 12:04 WIB</span>\\n<h2 class=\"title\">Patung Keris di Solo Dinilai Bisa Kaburkan Pemahaman Generasi Muda</h2>\\n<p>Patung keris yang dibangun Kementerian PUPR di Kawasan Minapadi Solo dikritik budayawan dan kalangan pecinta keris. Perwujudan kerisnya dinilai menyalahi pakem.</p>\\n</span>,\n",
       " <span class=\"box_text\">\\n<span class=\"date\"><span class=\"category\">detikFinance</span>Kamis, 17 Jan 2019 11:00 WIB</span>\\n<h2 class=\"title\">Kejar Sertifikat Kelaikan, Proyek Tol Wilangan-Kertosono Dikebut</h2>\\n<p>Presiden Jokowi sudah meresmikan ruas tol Wilangan-Kertosono. Ruas tol tu masih di kebut pengerjaan untuk bisa mendapatkan sertifikat uji kelaikan.</p>\\n</span>,\n",
       " <span class=\"box_text\">\\n<span class=\"date\"><span class=\"category\">detikNews</span>Rabu, 16 Jan 2019 18:09 WIB</span>\\n<h2 class=\"title\">Kata Menhan soal Tingkat Kepatuhan LHKPN Kemhan Paling Rendah</h2>\\n<p>KPK memaparkan Kemhan paling rendah tingkat kepatuhan soal LHKPN selama 2018. Apa kata Menhan Ryamizard Ryacudu?</p>\\n</span>,\n",
       " <span class=\"box_text\">\\n<span class=\"date\"><span class=\"category\">detikFinance</span>Rabu, 16 Jan 2019 09:47 WIB</span>\\n<h2 class=\"title\">Jelang Operasi Penuh, Tol Sei Rampah-Tebing Tinggi Uji Kelaikan</h2>\\n<p>Diharapkan dalam kuartal I-2019 ini Seksi 7 (Sei Rampah-Tebing Tinggi) dapat beroperasi penuh.</p>\\n</span>,\n",
       " <span class=\"box_text\">\\n<span class=\"date\"><span class=\"category\">detikNews</span>Rabu, 16 Jan 2019 09:38 WIB</span>\\n<h2 class=\"title\">3 Tersangka Korupsi Irigasi Cihara Banten Ditahan</h2>\\n<p>Jaksa kembali menahan 3 tersangka dugaan tindak pidana korupsi bendungan Cihara, Lebak senilai Rp 3,5 miliar. Ditaksir kerugian mencapai miliaran rupiah.</p>\\n</span>]"
      ]
     },
     "execution_count": 11,
     "metadata": {},
     "output_type": "execute_result"
    }
   ],
   "source": [
    "news_container"
   ]
  },
  {
   "cell_type": "code",
   "execution_count": 12,
   "metadata": {},
   "outputs": [],
   "source": [
    "first_article = news_container[0]"
   ]
  },
  {
   "cell_type": "code",
   "execution_count": 13,
   "metadata": {},
   "outputs": [
    {
     "data": {
      "text/plain": [
       "<h2 class=\"title\">Bendungan Mila Siap Alirkan Air ke 1.689 Ha Lahan di Dompu</h2>"
      ]
     },
     "execution_count": 13,
     "metadata": {},
     "output_type": "execute_result"
    }
   ],
   "source": [
    "first_article.h2"
   ]
  },
  {
   "cell_type": "code",
   "execution_count": 14,
   "metadata": {},
   "outputs": [
    {
     "data": {
      "text/plain": [
       "<span class=\"date\"><span class=\"category\">detikFinance</span>Sabtu, 19 Jan 2019 14:31 WIB</span>"
      ]
     },
     "execution_count": 14,
     "metadata": {},
     "output_type": "execute_result"
    }
   ],
   "source": [
    "first_article.span"
   ]
  },
  {
   "cell_type": "code",
   "execution_count": 15,
   "metadata": {},
   "outputs": [],
   "source": [
    "first_category = first_article.find('span', class_ = 'category')"
   ]
  },
  {
   "cell_type": "code",
   "execution_count": 16,
   "metadata": {},
   "outputs": [
    {
     "data": {
      "text/plain": [
       "<span class=\"category\">detikFinance</span>"
      ]
     },
     "execution_count": 16,
     "metadata": {},
     "output_type": "execute_result"
    }
   ],
   "source": [
    "first_category"
   ]
  },
  {
   "cell_type": "code",
   "execution_count": 17,
   "metadata": {},
   "outputs": [
    {
     "data": {
      "text/plain": [
       "u'Bendungan Mila Siap Alirkan Air ke 1.689 Ha Lahan di Dompu'"
      ]
     },
     "execution_count": 17,
     "metadata": {},
     "output_type": "execute_result"
    }
   ],
   "source": [
    "first_article.h2.text"
   ]
  },
  {
   "cell_type": "code",
   "execution_count": 18,
   "metadata": {},
   "outputs": [
    {
     "data": {
      "text/plain": [
       "<span class=\"box_text\">\\n<span class=\"date\"><span class=\"category\">detikFinance</span>Sabtu, 19 Jan 2019 14:31 WIB</span>\\n<h2 class=\"title\">Bendungan Mila Siap Alirkan Air ke 1.689 Ha Lahan di Dompu</h2>\\n<p>Bendungan dengan tipe urugan zona inti tegak setinggi 36 meter memiliki kapasitas tampung sebesar 6,73 juta meter kubik dengan luas genangan 99 hektare.</p>\\n</span>"
      ]
     },
     "execution_count": 18,
     "metadata": {},
     "output_type": "execute_result"
    }
   ],
   "source": [
    "first_article"
   ]
  },
  {
   "cell_type": "code",
   "execution_count": 19,
   "metadata": {},
   "outputs": [],
   "source": [
    "first_title = first_article.find('h2', class_ = 'title')"
   ]
  },
  {
   "cell_type": "code",
   "execution_count": 20,
   "metadata": {},
   "outputs": [
    {
     "data": {
      "text/plain": [
       "u'Bendungan Mila Siap Alirkan Air ke 1.689 Ha Lahan di Dompu'"
      ]
     },
     "execution_count": 20,
     "metadata": {},
     "output_type": "execute_result"
    }
   ],
   "source": [
    "first_title.text"
   ]
  },
  {
   "cell_type": "code",
   "execution_count": 21,
   "metadata": {},
   "outputs": [],
   "source": [
    "title = soup.find_all('h2')"
   ]
  },
  {
   "cell_type": "code",
   "execution_count": 23,
   "metadata": {},
   "outputs": [
    {
     "data": {
      "text/plain": [
       "[<h2 class=\"title\">Bendungan Mila Siap Alirkan Air ke 1.689 Ha Lahan di Dompu</h2>,\n",
       " <h2 class=\"title\">Bertemu Jokowi, Ridwan Kamil Ingin Situ Bagendit Jadi Destinasi Dunia</h2>,\n",
       " <h2 class=\"title\">Jokowi Tinjau Bantuan Rusun di Ponpes Ustaz Adi Hidayat Belajar</h2>,\n",
       " <h2 class=\"title\">Pejabat Kementerian PUPR Kena OTT KPK</h2>,\n",
       " <h2 class=\"title\">5 Objek Wisata Populer Jawa Tengah yang Tak Kalah dengan Malaysia</h2>,\n",
       " <h2 class=\"title\">Patung Keris di Solo Dinilai Bisa Kaburkan Pemahaman Generasi Muda</h2>,\n",
       " <h2 class=\"title\">Kejar Sertifikat Kelaikan, Proyek Tol Wilangan-Kertosono Dikebut</h2>,\n",
       " <h2 class=\"title\">Warga Padang Nikmati Program Hibah Air</h2>,\n",
       " <h2 class=\"title\">Melihat Infrastruktur Jalan dan Jembatan di Pulau Terdepan RI</h2>,\n",
       " <h2 class=\"title\">Bendungan Rotiklot di Perbatasan RI-Timor Leste Rampung</h2>,\n",
       " <h2 class=\"title\">Wajah Rumah Khusus di Papua, untuk Pemuka Adat hingga Eks OPM</h2>,\n",
       " <h2 class=\"title\">Potret Pembangunan Indonesia dari Wilayah Perbatasan</h2>,\n",
       " <h2 class=\"title\">Kata Menhan soal Tingkat Kepatuhan LHKPN Kemhan Paling Rendah</h2>,\n",
       " <h2 class=\"title\">Jelang Operasi Penuh, Tol Sei Rampah-Tebing Tinggi Uji Kelaikan</h2>,\n",
       " <h2 class=\"title\">3 Tersangka Korupsi Irigasi Cihara Banten Ditahan</h2>]"
      ]
     },
     "execution_count": 23,
     "metadata": {},
     "output_type": "execute_result"
    }
   ],
   "source": [
    "title"
   ]
  },
  {
   "cell_type": "code",
   "execution_count": null,
   "metadata": {},
   "outputs": [],
   "source": []
  }
 ],
 "metadata": {
  "kernelspec": {
   "display_name": "Python 2",
   "language": "python",
   "name": "python2"
  },
  "language_info": {
   "codemirror_mode": {
    "name": "ipython",
    "version": 2
   },
   "file_extension": ".py",
   "mimetype": "text/x-python",
   "name": "python",
   "nbconvert_exporter": "python",
   "pygments_lexer": "ipython2",
   "version": "2.7.15"
  }
 },
 "nbformat": 4,
 "nbformat_minor": 2
}
